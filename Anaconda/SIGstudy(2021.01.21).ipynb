{
 "cells": [
  {
   "cell_type": "code",
   "execution_count": 1,
   "metadata": {},
   "outputs": [
    {
     "name": "stdout",
     "output_type": "stream",
     "text": [
      "mother 6\n",
      "father 6\n",
      "sister 6\n",
      "brother 7\n",
      "baby 4\n"
     ]
    }
   ],
   "source": [
    "# 2021.01.21\n",
    "\n",
    "# for문\n",
    "family = ['mother','father','sister','brother','baby']\n",
    "for x in family:\n",
    "    print(\"%s %d\"%(x,len(x)))"
   ]
  },
  {
   "cell_type": "code",
   "execution_count": 4,
   "metadata": {},
   "outputs": [
    {
     "name": "stdout",
     "output_type": "stream",
     "text": [
      "자연수 하나를 입력하시오. >>>3\n",
      "3\n",
      "3\n",
      "3\n"
     ]
    }
   ],
   "source": [
    "# 문제 1\n",
    "num = int(input(\"자연수 하나를 입력하시오. >>> \"))\n",
    "for i in range(num):\n",
    "    print(num)"
   ]
  },
  {
   "cell_type": "code",
   "execution_count": 15,
   "metadata": {},
   "outputs": [
    {
     "name": "stdout",
     "output_type": "stream",
     "text": [
      "정수 하나를 입력하시오. >>>-5\n",
      "-5 25\n",
      "-4 16\n",
      "-3 9\n",
      "-2 4\n",
      "-1 1\n"
     ]
    }
   ],
   "source": [
    "# 문제 2\n",
    "num = int(input(\"정수 하나를 입력하시오. >>> \"))\n",
    "if num < 0:\n",
    "    for i in range(num,0):\n",
    "        print(i, i**2)\n",
    "elif num >= 0:\n",
    "    for i in range(1,num+1):\n",
    "        print(i, i**2)"
   ]
  },
  {
   "cell_type": "code",
   "execution_count": 29,
   "metadata": {},
   "outputs": [
    {
     "name": "stdout",
     "output_type": "stream",
     "text": [
      "소수를 구하기 위한 2 이상의 자연수를 입력하시오. >>> 80\n",
      "2 3 5 7 11 13 17 19 23 29 31 37 41 43 47 53 59 61 67 71 73 79 "
     ]
    }
   ],
   "source": [
    "# 문제 3\n",
    "\n",
    "def prime(n):\n",
    "    cnt = 0\n",
    "    for i in range(1,n+1):\n",
    "        if n%i == 0: cnt += 1\n",
    "    if cnt == 2: return True\n",
    "    else: return False\n",
    "\n",
    "num = int(input(\"소수를 구하기 위한 2 이상의 자연수를 입력하시오. >>> \"))\n",
    "\n",
    "for i in range(2, num+1):\n",
    "    res = prime(i)\n",
    "    if res == True:\n",
    "        print(i,end=\" \")\n",
    "    else:\n",
    "        continue"
   ]
  },
  {
   "cell_type": "code",
   "execution_count": 28,
   "metadata": {},
   "outputs": [
    {
     "name": "stdout",
     "output_type": "stream",
     "text": [
      "숫자를 입력하시오. >>> 80\n",
      "[2, 3, 5, 7, 11, 13, 17, 19, 23, 29, 31, 37, 41, 43, 47, 53, 59, 61, 67, 71, 73, 79]\n"
     ]
    }
   ],
   "source": [
    "# 문제 3 \n",
    "num = int(input(\"숫자를 입력하시오. >>> \"))\n",
    "arr = []\n",
    "for i in range(1,num+1):\n",
    "    arr.append(i)\n",
    "# print(arr) # 범위 안 모든 수 출력\n",
    "arr.remove(1) # 1 제거\n",
    "res = min(arr) # 1 제외한 최소값 2\n",
    "for x in arr:\n",
    "    for i in arr:\n",
    "        if i == res: continue\n",
    "        elif i%res == 0: # 2의 배수부터 리스트에서 삭제\n",
    "            arr.remove(i)\n",
    "    res = x\n",
    "    \n",
    "print(arr)"
   ]
  }
 ],
 "metadata": {
  "kernelspec": {
   "display_name": "Python 3",
   "language": "python",
   "name": "python3"
  },
  "language_info": {
   "codemirror_mode": {
    "name": "ipython",
    "version": 3
   },
   "file_extension": ".py",
   "mimetype": "text/x-python",
   "name": "python",
   "nbconvert_exporter": "python",
   "pygments_lexer": "ipython3",
   "version": "3.6.9"
  }
 },
 "nbformat": 4,
 "nbformat_minor": 4
}
