{
 "cells": [
  {
   "cell_type": "markdown",
   "metadata": {},
   "source": [
    "# 2021.01.14"
   ]
  },
  {
   "cell_type": "code",
   "execution_count": 14,
   "metadata": {},
   "outputs": [
    {
     "name": "stdout",
     "output_type": "stream",
     "text": [
      "자연수 한 개를 입력하시오.:3\n",
      "3\n",
      "3\n",
      "3\n"
     ]
    }
   ],
   "source": [
    "# input으로 정수 한 개 입력받아, \n",
    "#그 숫자를 그 숫자 크기만큼 반복해서 출력\n",
    "loop = int(input(\"자연수 한 개를 입력하시오.:\"))\n",
    "start = 0\n",
    "while start < loop:\n",
    "    print(loop)\n",
    "    start += 1"
   ]
  },
  {
   "cell_type": "code",
   "execution_count": 12,
   "metadata": {},
   "outputs": [
    {
     "name": "stdout",
     "output_type": "stream",
     "text": [
      "1 60.0\n",
      "2 36.0\n",
      "3 21.6\n",
      "4 12.96\n",
      "5 7.776\n",
      "6 4.6656\n",
      "7 2.7994\n",
      "8 1.6796\n",
      "9 1.0078\n",
      "10 0.6047\n"
     ]
    }
   ],
   "source": [
    "# 고무공을 100미터 높이에서 떨어뜨리는데,\n",
    "# 이 공을 땅에 닿을 때마다 원래 높이의 3/5 만큼 튀어오릅니다.\n",
    "# 공이 열 번 튈 동안, 그때마다 공의 높이를 계산합니다.\n",
    "\n",
    "# m = 100\n",
    "# cnt = 1\n",
    "# while cnt <= 10:\n",
    "#     print(cnt, m*(3/5)**cnt)\n",
    "#     cnt += 1\n",
    "    \n",
    "m = 100\n",
    "cnt = 1\n",
    "while cnt <= 10:\n",
    "    print(cnt, round(m*(3/5)**cnt,4))\n",
    "    cnt += 1\n",
    "    \n",
    "# m = int(input(\"공을 떨어뜨릴 높이를 입력하시오.:\"))\n",
    "# cnt = 1\n",
    "# while cnt <= 10:\n",
    "#     print(cnt, round(m*(3/5)**cnt,4))\n",
    "#     cnt += 1"
   ]
  }
 ],
 "metadata": {
  "kernelspec": {
   "display_name": "Python 3",
   "language": "python",
   "name": "python3"
  },
  "language_info": {
   "codemirror_mode": {
    "name": "ipython",
    "version": 3
   },
   "file_extension": ".py",
   "mimetype": "text/x-python",
   "name": "python",
   "nbconvert_exporter": "python",
   "pygments_lexer": "ipython3",
   "version": "3.6.9"
  }
 },
 "nbformat": 4,
 "nbformat_minor": 4
}
