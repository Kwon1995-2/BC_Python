{
 "cells": [
  {
   "cell_type": "code",
   "execution_count": 11,
   "metadata": {},
   "outputs": [
    {
     "name": "stdout",
     "output_type": "stream",
     "text": [
      "돈을 넣어주세요.(원단위) >>> 500\n",
      "\n",
      "+------------------+\n",
      "|     [자판기]     |\n",
      "|------------------|\n",
      "| 1.콜라   1000원  |\n",
      "| 2.사이다 1000원  |\n",
      "| 3.식혜    800원  |\n",
      "| 4.커피    500원  |\n",
      "| 5.우유    800원  |\n",
      "| 6.포카리 2000원  |\n",
      "| 7.보리차 1500원  |\n",
      "| 8.주스   1500원  |\n",
      "+------------------+\n",
      "\n",
      "구입할 음료수를 선택해주세요. (0:구입종료)>>>2\n",
      "잔액이 부족합니다!\n",
      "돈을 더 넣어주세요.(원단위) >>> 600\n",
      "\n",
      "### 사이다 구입완료, 100원 남았습니다. ###\n",
      "\n",
      "Y:계속구매, N:구매종료 >>> 4\n",
      "지정된 문자만 입력해주세요.\n",
      "Y:계속구매, N:구매종료 >>> N\n",
      "100원을 환불합니다.\n"
     ]
    }
   ],
   "source": [
    "# 자판기\n",
    "money = int(input(\"돈을 넣어주세요.(원단위) >>> \"))\n",
    "print()\n",
    "print(\"+------------------+\")\n",
    "print(\"|     [자판기]     |\")\n",
    "print(\"|------------------|\")\n",
    "print(\"| 1.콜라   1000원  |\")\n",
    "print(\"| 2.사이다 1000원  |\")\n",
    "print(\"| 3.식혜    800원  |\")\n",
    "print(\"| 4.커피    500원  |\")\n",
    "print(\"| 5.우유    800원  |\")\n",
    "print(\"| 6.포카리 2000원  |\")\n",
    "print(\"| 7.보리차 1500원  |\")\n",
    "print(\"| 8.주스   1500원  |\")\n",
    "print(\"+------------------+\")\n",
    "print()\n",
    "menu = {1:\"콜라\",2:\"사이다\",3:\"식혜\",4:\"커피\",5:\"우유\",6:\"포카리\",7:\"보리차\",8:\"주스\"}\n",
    "price = {1:1000,2:1000,3:800,4:500,5:800,6:2000,7:1500,8:1500}\n",
    "\n",
    "while True:\n",
    "    try:\n",
    "        select = int(input(\"구입할 음료수를 선택해주세요. (0:구입종료)>>>\"))\n",
    "    except:\n",
    "        print(\"숫자로 입력해주세요!\")\n",
    "        continue\n",
    "    else:\n",
    "        result = select\n",
    "    \n",
    "    if result == 0: break\n",
    "    \n",
    "    while money < price[result]:\n",
    "        print(\"잔액이 부족합니다!\")\n",
    "        coin = int(input(\"돈을 더 넣어주세요.(원단위) >>> \"))\n",
    "        money += coin\n",
    "    \n",
    "    money -= price[result]\n",
    "    print(\"\\n### %s 구입완료, %d원 남았습니다. ###\\n\"%(menu[result],money))\n",
    "    \n",
    "    if money == 0: break\n",
    "    else:\n",
    "        while True:\n",
    "            yn = input(\"Y:계속구매, N:구매종료 >>> \")\n",
    "            if yn == 'n' or yn == 'N' or yn == 'y' or yn ==\"Y\":\n",
    "                break\n",
    "            else:\n",
    "                print(\"지정된 문자만 입력해주세요.\")\n",
    "                continue\n",
    "        if yn == 'Y' or yn == 'y': continue\n",
    "        elif yn == 'N' or yn == 'n': \n",
    "            print(\"%d원을 환불합니다.\"%(money))\n",
    "            break\n",
    "            "
   ]
  }
 ],
 "metadata": {
  "kernelspec": {
   "display_name": "Python 3",
   "language": "python",
   "name": "python3"
  },
  "language_info": {
   "codemirror_mode": {
    "name": "ipython",
    "version": 3
   },
   "file_extension": ".py",
   "mimetype": "text/x-python",
   "name": "python",
   "nbconvert_exporter": "python",
   "pygments_lexer": "ipython3",
   "version": "3.6.9"
  }
 },
 "nbformat": 4,
 "nbformat_minor": 4
}
