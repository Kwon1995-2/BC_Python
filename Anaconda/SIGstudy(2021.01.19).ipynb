{
 "cells": [
  {
   "cell_type": "markdown",
   "metadata": {},
   "source": [
    "# 2021.01.19"
   ]
  },
  {
   "cell_type": "code",
   "execution_count": 1,
   "metadata": {},
   "outputs": [],
   "source": [
    "# Input()으로 입력받은 정수 계속 더해나가다가 \n",
    "# 음수가 입력되면 중단\n",
    "# 그 전까지 계산된 값 출력"
   ]
  },
  {
   "cell_type": "code",
   "execution_count": 5,
   "metadata": {},
   "outputs": [
    {
     "name": "stdout",
     "output_type": "stream",
     "text": [
      "1\n",
      "2\n",
      "3\n",
      "-1\n",
      "6\n"
     ]
    }
   ],
   "source": [
    "nsum = 0\n",
    "while True:\n",
    "    num = int(input())\n",
    "    if num < 0: break\n",
    "    nsum += num\n",
    "print(nsum)   "
   ]
  },
  {
   "cell_type": "code",
   "execution_count": 12,
   "metadata": {},
   "outputs": [
    {
     "name": "stdout",
     "output_type": "stream",
     "text": [
      "연도를 입력하시오.:2020\n",
      "2020년은 윤년이다.\n"
     ]
    }
   ],
   "source": [
    "# 윤년\n",
    "year = int(input(\"연도를 입력하시오.:\"))\n",
    "if year%4 == 0 :\n",
    "    if year%100 == 0: \n",
    "        if year%400 == 0: print(\"%d년은 윤년이다.\"%(year))\n",
    "        else : print(\"%d년은 평년이다.\"%(year))\n",
    "    else: print(\"%d년은 윤년이다.\"%(year))\n",
    "else : print(\"%d년은 평년이다.\"%(year))"
   ]
  },
  {
   "cell_type": "code",
   "execution_count": 21,
   "metadata": {},
   "outputs": [
    {
     "name": "stdout",
     "output_type": "stream",
     "text": [
      "연도를 입력하시오.:2400\n",
      "2400년은 윤년이다.\n"
     ]
    }
   ],
   "source": [
    "# 윤년\n",
    "year = int(input(\"연도를 입력하시오.:\"))\n",
    "if year%4 == 0 and year%100 != 0 or year%400 == 0:\n",
    "    print(\"%d년은 윤년이다.\"%(year))\n",
    "else : \n",
    "    print(\"%d년은 평년이다.\"%(year))"
   ]
  }
 ],
 "metadata": {
  "kernelspec": {
   "display_name": "Python 3",
   "language": "python",
   "name": "python3"
  },
  "language_info": {
   "codemirror_mode": {
    "name": "ipython",
    "version": 3
   },
   "file_extension": ".py",
   "mimetype": "text/x-python",
   "name": "python",
   "nbconvert_exporter": "python",
   "pygments_lexer": "ipython3",
   "version": "3.6.9"
  }
 },
 "nbformat": 4,
 "nbformat_minor": 4
}
