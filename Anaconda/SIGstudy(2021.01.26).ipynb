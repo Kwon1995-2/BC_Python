{
 "cells": [
  {
   "cell_type": "code",
   "execution_count": null,
   "metadata": {},
   "outputs": [],
   "source": [
    "#2021.01.26"
   ]
  },
  {
   "cell_type": "code",
   "execution_count": 1,
   "metadata": {},
   "outputs": [
    {
     "name": "stdout",
     "output_type": "stream",
     "text": [
      "35\n"
     ]
    }
   ],
   "source": [
    "def f1(x):\n",
    "    a = 3\n",
    "    b = 5\n",
    "    y = a*x + b\n",
    "    return y\n",
    "\n",
    "c = f1(10)\n",
    "print(c)"
   ]
  },
  {
   "cell_type": "code",
   "execution_count": 7,
   "metadata": {},
   "outputs": [
    {
     "name": "stdout",
     "output_type": "stream",
     "text": [
      "1937500.0\n",
      "22916.666666666668\n"
     ]
    }
   ],
   "source": [
    "def simple_interest(p,r,t):\n",
    "    return p*r*t\n",
    "\n",
    "print(simple_interest(10000000,0.03875,5))\n",
    "print(simple_interest(1100000,0.05,5/12))"
   ]
  },
  {
   "cell_type": "code",
   "execution_count": 16,
   "metadata": {},
   "outputs": [
    {
     "name": "stdout",
     "output_type": "stream",
     "text": [
      "11937500.0\n",
      "1122916.6666666665\n"
     ]
    }
   ],
   "source": [
    "def simple_interest_amount(p,r,t):\n",
    "    return p*(1+r*t)\n",
    "\n",
    "print(simple_interest_amount(10000000,0.03875,5))\n",
    "print(simple_interest_amount(1100000,0.05,5/12))"
   ]
  },
  {
   "cell_type": "code",
   "execution_count": 18,
   "metadata": {},
   "outputs": [
    {
     "name": "stdout",
     "output_type": "stream",
     "text": [
      "1938836.8221341055\n",
      "1921236.0840000005\n"
     ]
    }
   ],
   "source": [
    "def compound_interest_amount(p,r,t,n):\n",
    "    return p*(1+r/n)**(n*t)\n",
    "\n",
    "print(compound_interest_amount(1500000,0.043,6,4))\n",
    "print(compound_interest_amount(1500000,0.043,6,1/2))"
   ]
  }
 ],
 "metadata": {
  "kernelspec": {
   "display_name": "Python 3",
   "language": "python",
   "name": "python3"
  },
  "language_info": {
   "codemirror_mode": {
    "name": "ipython",
    "version": 3
   },
   "file_extension": ".py",
   "mimetype": "text/x-python",
   "name": "python",
   "nbconvert_exporter": "python",
   "pygments_lexer": "ipython3",
   "version": "3.6.9"
  }
 },
 "nbformat": 4,
 "nbformat_minor": 4
}
