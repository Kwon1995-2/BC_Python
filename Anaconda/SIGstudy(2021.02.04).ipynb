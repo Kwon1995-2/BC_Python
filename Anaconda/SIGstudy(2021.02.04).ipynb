{
 "cells": [
  {
   "cell_type": "code",
   "execution_count": null,
   "metadata": {},
   "outputs": [],
   "source": [
    "# 2021.02.04"
   ]
  },
  {
   "cell_type": "code",
   "execution_count": 2,
   "metadata": {},
   "outputs": [
    {
     "name": "stdout",
     "output_type": "stream",
     "text": [
      "10 20\n",
      "20 10\n",
      "10 20\n",
      "20 10\n"
     ]
    }
   ],
   "source": [
    "a = 10\n",
    "b = 20\n",
    "print(a,b)\n",
    "temp = a\n",
    "a = b\n",
    "b = temp\n",
    "print(a, b)\n",
    "\n",
    "c=10\n",
    "d=20\n",
    "print(c,d)\n",
    "c, d = d, c\n",
    "print(c,d)"
   ]
  },
  {
   "cell_type": "code",
   "execution_count": 3,
   "metadata": {},
   "outputs": [
    {
     "name": "stdout",
     "output_type": "stream",
     "text": [
      "1 2 (3, 5, 6, 7, 9, 10)\n"
     ]
    }
   ],
   "source": [
    "def magu_print(x,y, *rest):\n",
    "    print(x,y,rest)\n",
    "    \n",
    "magu_print(1,2,3,5,6,7,9,10)"
   ]
  },
  {
   "cell_type": "code",
   "execution_count": 14,
   "metadata": {},
   "outputs": [
    {
     "name": "stdout",
     "output_type": "stream",
     "text": [
      "('a', 'b', 'c') ('a', 'b', 'c')\n",
      "()\n",
      "(5,)\n",
      "(1, 5, 3)\n",
      "((1,), 5, (3,))\n",
      "[1, 2, 3]\n",
      "(1, 2, 3)\n"
     ]
    }
   ],
   "source": [
    "t = ('a','b','c')\n",
    "tt = 'a','b','c'\n",
    "print(t, tt)\n",
    "\n",
    "empty = ()\n",
    "print(empty)\n",
    "\n",
    "one = 5,\n",
    "print(one)\n",
    "\n",
    "p = 1,2,3\n",
    "q=p[:1]+(5,)+p[2:]\n",
    "print(q)\n",
    "r = p[:1],5,p[2:]\n",
    "print(r)\n",
    "\n",
    "p = 1,2,3\n",
    "q = list(p)\n",
    "print(q)\n",
    "\n",
    "r = tuple(q)\n",
    "print(r)"
   ]
  },
  {
   "cell_type": "code",
   "execution_count": 19,
   "metadata": {},
   "outputs": [
    {
     "name": "stdout",
     "output_type": "stream",
     "text": [
      "1. A reference book containing an ...\n",
      "{'dictionary': '1. A reference book containing an ...', 'python': 'Any of various nonvenomous snakes of the ...'}\n",
      "snake\n",
      "{'dictionary': 'reference', 'python': 'snake'}\n"
     ]
    }
   ],
   "source": [
    "dic = {}\n",
    "dic['dictionary'] = '1. A reference book containing an ...'\n",
    "dic['python'] = 'Any of various nonvenomous snakes of the ...'\n",
    "print(dic['dictionary'])\n",
    "print(dic)\n",
    "\n",
    "smalldic = {'dictionary':'reference','python':'snake'}\n",
    "print(smalldic['python'])\n",
    "print(smalldic)"
   ]
  }
 ],
 "metadata": {
  "kernelspec": {
   "display_name": "Python 3",
   "language": "python",
   "name": "python3"
  },
  "language_info": {
   "codemirror_mode": {
    "name": "ipython",
    "version": 3
   },
   "file_extension": ".py",
   "mimetype": "text/x-python",
   "name": "python",
   "nbconvert_exporter": "python",
   "pygments_lexer": "ipython3",
   "version": "3.6.9"
  }
 },
 "nbformat": 4,
 "nbformat_minor": 4
}
