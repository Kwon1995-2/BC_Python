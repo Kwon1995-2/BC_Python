{
 "cells": [
  {
   "cell_type": "code",
   "execution_count": 2,
   "metadata": {},
   "outputs": [],
   "source": [
    "# 2021.01.28"
   ]
  },
  {
   "cell_type": "code",
   "execution_count": 3,
   "metadata": {},
   "outputs": [
    {
     "name": "stdout",
     "output_type": "stream",
     "text": [
      "5\n",
      "6\n",
      "5\n",
      "6\n"
     ]
    }
   ],
   "source": [
    "def hap(a, b):\n",
    "    print(a+b)\n",
    "def gop(a, b):\n",
    "    print(a*b)\n",
    "def hap_gop(a, b):\n",
    "    hap(a, b)\n",
    "    gop(a, b)\n",
    "\n",
    "hap(2,3)\n",
    "gop(2,3)\n",
    "hap_gop(2,3)"
   ]
  },
  {
   "cell_type": "code",
   "execution_count": 4,
   "metadata": {},
   "outputs": [
    {
     "name": "stdout",
     "output_type": "stream",
     "text": [
      "3\n",
      "2\n",
      "1\n",
      "Blastoff!\n"
     ]
    }
   ],
   "source": [
    "def countdown(n):\n",
    "    if n == 0:\n",
    "        print(\"Blastoff!\")\n",
    "    else:\n",
    "        print(n)\n",
    "        countdown(n-1)\n",
    "countdown(3)"
   ]
  },
  {
   "cell_type": "code",
   "execution_count": 8,
   "metadata": {},
   "outputs": [
    {
     "name": "stdout",
     "output_type": "stream",
     "text": [
      "21\n"
     ]
    }
   ],
   "source": [
    "def sumOfDigits(n):\n",
    "    if n//10 == 0: return n\n",
    "    return n%10 + sumOfDigits(n//10)\n",
    "\n",
    "result = sumOfDigits(47253)\n",
    "print(result)"
   ]
  },
  {
   "cell_type": "code",
   "execution_count": 11,
   "metadata": {},
   "outputs": [
    {
     "name": "stdout",
     "output_type": "stream",
     "text": [
      "4029710.4000000004\n"
     ]
    }
   ],
   "source": [
    "def compound_interest_amount_withoutN(p,r,t):\n",
    "    if t == 0: return p\n",
    "    return (1+r)*compound_interest_amount_withoutN(p,r,t-1)\n",
    "Expire_Receipt = compound_interest_amount_withoutN(3600000,0.058,2)\n",
    "print(Expire_Receipt)"
   ]
  }
 ],
 "metadata": {
  "kernelspec": {
   "display_name": "Python 3",
   "language": "python",
   "name": "python3"
  },
  "language_info": {
   "codemirror_mode": {
    "name": "ipython",
    "version": 3
   },
   "file_extension": ".py",
   "mimetype": "text/x-python",
   "name": "python",
   "nbconvert_exporter": "python",
   "pygments_lexer": "ipython3",
   "version": "3.6.9"
  }
 },
 "nbformat": 4,
 "nbformat_minor": 4
}
